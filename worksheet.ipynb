{
 "cells": [
  {
   "cell_type": "code",
   "execution_count": 1,
   "metadata": {},
   "outputs": [],
   "source": [
    "from patchedimage import PatchedImage\n",
    "from utilities import *\n"
   ]
  },
  {
   "cell_type": "code",
   "execution_count": null,
   "metadata": {},
   "outputs": [
    {
     "ename": "ValueError",
     "evalue": "operands could not be broadcast together with shapes (256,256) (256,256,3) ",
     "output_type": "error",
     "traceback": [
      "\u001b[0;31m---------------------------------------------------------------------------\u001b[0m",
      "\u001b[0;31mValueError\u001b[0m                                Traceback (most recent call last)",
      "Cell \u001b[0;32mIn[2], line 3\u001b[0m\n\u001b[1;32m      1\u001b[0m im \u001b[38;5;241m=\u001b[39m PatchedImage(\u001b[38;5;124m\"\u001b[39m\u001b[38;5;124mimages/maison.tif\u001b[39m\u001b[38;5;124m\"\u001b[39m,\u001b[38;5;241m4\u001b[39m,search_mode\u001b[38;5;241m=\u001b[39m\u001b[38;5;124m\"\u001b[39m\u001b[38;5;124mLocal\u001b[39m\u001b[38;5;124m\"\u001b[39m)\n\u001b[1;32m      2\u001b[0m masque \u001b[38;5;241m=\u001b[39m masque_circulaire((\u001b[38;5;241m100\u001b[39m,\u001b[38;5;241m80\u001b[39m),\u001b[38;5;241m10\u001b[39m,im\u001b[38;5;241m.\u001b[39mimg\u001b[38;5;241m.\u001b[39mshape,color\u001b[38;5;241m=\u001b[39m\u001b[38;5;28;01mTrue\u001b[39;00m)\n\u001b[0;32m----> 3\u001b[0m im\u001b[38;5;241m.\u001b[39mset_masque(draw\u001b[38;5;241m=\u001b[39m\u001b[38;5;28;01mFalse\u001b[39;00m,masque\u001b[38;5;241m=\u001b[39mmasque,leaf_size\u001b[38;5;241m=\u001b[39m\u001b[38;5;241m256\u001b[39m)\n\u001b[1;32m      4\u001b[0m im\u001b[38;5;241m.\u001b[39mset_priorities()\n\u001b[1;32m      5\u001b[0m im\u001b[38;5;241m.\u001b[39mshow_img(search_zone\u001b[38;5;241m=\u001b[39m\u001b[38;5;28;01mTrue\u001b[39;00m)\n",
      "File \u001b[0;32m~/Documents/github/inpainting/patchedimage.py:77\u001b[0m, in \u001b[0;36mPatchedImage.set_masque\u001b[0;34m(self, leaf_size, draw, masque)\u001b[0m\n\u001b[1;32m     75\u001b[0m     \u001b[38;5;28mself\u001b[39m\u001b[38;5;241m.\u001b[39mimg, \u001b[38;5;28mself\u001b[39m\u001b[38;5;241m.\u001b[39mmasque \u001b[38;5;241m=\u001b[39m draw_on_image(\u001b[38;5;28mself\u001b[39m\u001b[38;5;241m.\u001b[39mfilename)\n\u001b[1;32m     76\u001b[0m \u001b[38;5;28;01melse\u001b[39;00m:\n\u001b[0;32m---> 77\u001b[0m     \u001b[38;5;28mself\u001b[39m\u001b[38;5;241m.\u001b[39mimg \u001b[38;5;241m=\u001b[39m \u001b[38;5;28mself\u001b[39m\u001b[38;5;241m.\u001b[39mimg\u001b[38;5;241m*\u001b[39m(\u001b[38;5;241m1\u001b[39m\u001b[38;5;241m-\u001b[39mmasque)\n\u001b[1;32m     78\u001b[0m     \u001b[38;5;28mself\u001b[39m\u001b[38;5;241m.\u001b[39mmasque \u001b[38;5;241m=\u001b[39m masque\n\u001b[1;32m     79\u001b[0m \u001b[38;5;28mself\u001b[39m\u001b[38;5;241m.\u001b[39mimg2[\u001b[38;5;28mself\u001b[39m\u001b[38;5;241m.\u001b[39mmasque \u001b[38;5;241m==\u001b[39m \u001b[38;5;241m1\u001b[39m] \u001b[38;5;241m=\u001b[39m np\u001b[38;5;241m.\u001b[39mnan\n",
      "\u001b[0;31mValueError\u001b[0m: operands could not be broadcast together with shapes (256,256) (256,256,3) "
     ]
    }
   ],
   "source": [
    "im = PatchedImage(\"images/maison.tif\",4,search_mode=\"Local\")\n",
    "masque = masque_circulaire((100,80),10,im.img.shape,color=False)\n",
    "im.set_masque(draw=False,masque=masque,leaf_size=256)\n",
    "im.set_priorities()\n",
    "im.show_img(search_zone=True)\n",
    "\n",
    "res = im.reconstruction_auto()\n",
    "\n",
    "im.show_img()"
   ]
  }
 ],
 "metadata": {
  "kernelspec": {
   "display_name": "jean",
   "language": "python",
   "name": "python3"
  },
  "language_info": {
   "codemirror_mode": {
    "name": "ipython",
    "version": 3
   },
   "file_extension": ".py",
   "mimetype": "text/x-python",
   "name": "python",
   "nbconvert_exporter": "python",
   "pygments_lexer": "ipython3",
   "version": "3.12.2"
  }
 },
 "nbformat": 4,
 "nbformat_minor": 2
}
