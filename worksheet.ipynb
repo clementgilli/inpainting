{
 "cells": [
  {
   "cell_type": "code",
   "execution_count": 1,
   "metadata": {},
   "outputs": [],
   "source": [
    "from patchedimage_color import PatchedImageColor\n",
    "from patchedimage import PatchedImage\n",
    "from utilities import *\n",
    "from resampling import *\n",
    "from draw import *"
   ]
  },
  {
   "cell_type": "code",
   "execution_count": null,
   "metadata": {},
   "outputs": [
    {
     "name": "stdout",
     "output_type": "stream",
     "text": [
      "Size of the search zone : 457x230\n",
      "==Tree construction==\n",
      "14.725 sec\n"
     ]
    }
   ],
   "source": [
    "imgp = PatchedImageColor(\"images/mer.png\",size=10,search_mode=\"Local\")\n",
    "imgp.set_masque(128,False,masque=np.load(\"saves/mask.npy\"))"
   ]
  },
  {
   "cell_type": "code",
   "execution_count": 4,
   "metadata": {},
   "outputs": [
    {
     "name": "stderr",
     "output_type": "stream",
     "text": [
      "qt.qpa.plugin: Could not find the Qt platform plugin \"wayland\" in \"/home/cgilli/Documents/telecom/2A/.venv/lib/python3.11/site-packages/cv2/qt/plugins\"\n"
     ]
    },
    {
     "name": "stdout",
     "output_type": "stream",
     "text": [
      "Reconstruct in 17.575 sec\n"
     ]
    }
   ],
   "source": [
    "imgp.reconstruction_auto(display_img=True)"
   ]
  }
 ],
 "metadata": {
  "kernelspec": {
   "display_name": ".venv",
   "language": "python",
   "name": "python3"
  },
  "language_info": {
   "codemirror_mode": {
    "name": "ipython",
    "version": 3
   },
   "file_extension": ".py",
   "mimetype": "text/x-python",
   "name": "python",
   "nbconvert_exporter": "python",
   "pygments_lexer": "ipython3",
   "version": "3.11.2"
  }
 },
 "nbformat": 4,
 "nbformat_minor": 2
}
