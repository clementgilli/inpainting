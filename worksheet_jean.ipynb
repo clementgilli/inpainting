{
 "cells": [
  {
   "cell_type": "code",
   "execution_count": 1,
   "metadata": {},
   "outputs": [],
   "source": [
    "import numpy as np\n",
    "import cv2\n",
    "import matplotlib.pyplot as plt\n",
    "\n",
    "def neighbours(i,j):\n",
    "    return [[i+1,j],[i-1,j],[i,j+1],[i,j-1]]\n",
    "\n",
    "def outlines_target(masque):\n",
    "    outlines = []\n",
    "    for i in range(len(masque)):\n",
    "        for j in range(len(masque[0])):\n",
    "            if masque[i][j] == 1:\n",
    "                for n in neighbours(i,j):\n",
    "                    if masque[n[0]][n[1]] == 0 and n not in outlines:\n",
    "                        outlines.append(n)\n",
    "    return np.array(outlines)\n"
   ]
  },
  {
   "cell_type": "code",
   "execution_count": 2,
   "metadata": {},
   "outputs": [
    {
     "ename": "TypeError",
     "evalue": "outlines_target() missing 1 required positional argument: 'zone'",
     "output_type": "error",
     "traceback": [
      "\u001b[0;31m---------------------------------------------------------------------------\u001b[0m",
      "\u001b[0;31mTypeError\u001b[0m                                 Traceback (most recent call last)",
      "Cell \u001b[0;32mIn[2], line 7\u001b[0m\n\u001b[1;32m      1\u001b[0m masque \u001b[38;5;241m=\u001b[39m np\u001b[38;5;241m.\u001b[39marray([[\u001b[38;5;241m0\u001b[39m,\u001b[38;5;241m0\u001b[39m,\u001b[38;5;241m0\u001b[39m,\u001b[38;5;241m0\u001b[39m,\u001b[38;5;241m0\u001b[39m],\n\u001b[1;32m      2\u001b[0m                     [\u001b[38;5;241m0\u001b[39m,\u001b[38;5;241m0\u001b[39m,\u001b[38;5;241m0\u001b[39m,\u001b[38;5;241m0\u001b[39m,\u001b[38;5;241m0\u001b[39m],\n\u001b[1;32m      3\u001b[0m                     [\u001b[38;5;241m0\u001b[39m,\u001b[38;5;241m0\u001b[39m,\u001b[38;5;241m1\u001b[39m,\u001b[38;5;241m1\u001b[39m,\u001b[38;5;241m0\u001b[39m],\n\u001b[1;32m      4\u001b[0m                     [\u001b[38;5;241m0\u001b[39m,\u001b[38;5;241m0\u001b[39m,\u001b[38;5;241m0\u001b[39m,\u001b[38;5;241m0\u001b[39m,\u001b[38;5;241m0\u001b[39m],\n\u001b[1;32m      5\u001b[0m                     [\u001b[38;5;241m0\u001b[39m,\u001b[38;5;241m0\u001b[39m,\u001b[38;5;241m0\u001b[39m,\u001b[38;5;241m0\u001b[39m,\u001b[38;5;241m0\u001b[39m]])\n\u001b[0;32m----> 7\u001b[0m outline\u001b[38;5;241m=\u001b[39m outlines_target(masque)\n\u001b[1;32m      8\u001b[0m \u001b[38;5;28mprint\u001b[39m(outline)\n\u001b[1;32m      9\u001b[0m outline_in_array \u001b[38;5;241m=\u001b[39m np\u001b[38;5;241m.\u001b[39mzeros(masque\u001b[38;5;241m.\u001b[39mshape)\n",
      "\u001b[0;31mTypeError\u001b[0m: outlines_target() missing 1 required positional argument: 'zone'"
     ]
    }
   ],
   "source": [
    "masque = np.array([[0,0,0,0,0],\n",
    "                    [0,0,0,0,0],\n",
    "                    [0,0,1,1,0],\n",
    "                    [0,0,0,0,0],\n",
    "                    [0,0,0,0,0]])\n",
    "\n",
    "outline= outlines_target(masque)\n",
    "print(outline)\n",
    "outline_in_array = np.zeros(masque.shape)\n",
    "outline_in_array[outline[:,0], outline[:,1]] = 1\n",
    "plt.imshow(outline_in_array, cmap='gray')\n",
    "plt.show()"
   ]
  }
 ],
 "metadata": {
  "kernelspec": {
   "display_name": "jean",
   "language": "python",
   "name": "python3"
  },
  "language_info": {
   "codemirror_mode": {
    "name": "ipython",
    "version": 3
   },
   "file_extension": ".py",
   "mimetype": "text/x-python",
   "name": "python",
   "nbconvert_exporter": "python",
   "pygments_lexer": "ipython3",
   "version": "3.12.2"
  }
 },
 "nbformat": 4,
 "nbformat_minor": 2
}
