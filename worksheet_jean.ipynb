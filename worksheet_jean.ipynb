{
 "cells": [
  {
   "cell_type": "code",
   "execution_count": 1,
   "metadata": {},
   "outputs": [],
   "source": [
    "import numpy as np\n",
    "import matplotlib.pyplot as plt"
   ]
  },
  {
   "cell_type": "code",
   "execution_count": 2,
   "metadata": {},
   "outputs": [
    {
     "ename": "NameError",
     "evalue": "name 'Patch' is not defined",
     "output_type": "error",
     "traceback": [
      "\u001b[0;31m---------------------------------------------------------------------------\u001b[0m",
      "\u001b[0;31mNameError\u001b[0m                                 Traceback (most recent call last)",
      "Cell \u001b[0;32mIn[2], line 48\u001b[0m\n\u001b[1;32m     44\u001b[0m         pat\u001b[38;5;241m.\u001b[39mdata \u001b[38;5;241m=\u001b[39m \u001b[38;5;241m1\u001b[39m\n\u001b[1;32m     47\u001b[0m \u001b[38;5;66;03m# Exemple d'utilisation\u001b[39;00m\n\u001b[0;32m---> 48\u001b[0m patch_instance \u001b[38;5;241m=\u001b[39m Patch(\u001b[38;5;124m\"\u001b[39m\u001b[38;5;124mimages/lena.tif\u001b[39m\u001b[38;5;124m\"\u001b[39m)\n\u001b[1;32m     50\u001b[0m \u001b[38;5;28mprint\u001b[39m(\u001b[38;5;28mtype\u001b[39m(patch_instance))  \u001b[38;5;66;03m# Devrait afficher <class '__main__.Patch'>\u001b[39;00m\n\u001b[1;32m     51\u001b[0m \u001b[38;5;28mprint\u001b[39m(patch_instance)  \u001b[38;5;66;03m# Affiche les dimensions de l'image\u001b[39;00m\n",
      "\u001b[0;31mNameError\u001b[0m: name 'Patch' is not defined"
     ]
    }
   ],
   "source": [
    "def gradient(ar):\n",
    "    grad_i, grad_j = np.gradient(ar)\n",
    "    return np.array([[(grad_i[i, j], grad_j[i, j]) for j in range(grad_i.shape[1])] for i in range(grad_j.shape[0])])\n",
    "\n",
    "class PatchedImage():\n",
    "    def __init__(self, filename, size):\n",
    "        self.img = plt.imread(filename)\n",
    "        self.size = size\n",
    "        self.zone = self.set_zone() # Tout le patch doit etre dans la zone ?\n",
    "        self.working_patch = (-1,-1)\n",
    "        self.confidence = self.compute_confidence()\n",
    "        grad_i, grad_j = np.gradient()\n",
    "        self.gradient = np.array([[(grad_i[i, j], grad_j[i, j]) for j in range(grad_i.shape[1])] for i in range(grad_j.shape[0])])\n",
    "    \n",
    "    def set_zone(self):\n",
    "        return np.zeros(self.img.shape)\n",
    "    \n",
    "    def set_priorities(self):\n",
    "        if self.working_patch == (-1, -1):\n",
    "            for i in range(self.length):\n",
    "                for j in range(self.width):\n",
    "                    if self.zone != 0:\n",
    "                        self.set_confidence_patch(self, (i,j))\n",
    "                        self.set_data_patch(self, (i,j))\n",
    "        else:\n",
    "            k,l = self.working_patch\n",
    "            self.compute_confidence_patch(self, self.working_patch)\n",
    "            self.compute_data_patch(self, self.working_patch)\n",
    "\n",
    "    def set_confidence_patch(self,coord):\n",
    "        k,l = coord\n",
    "        somme = 0\n",
    "        for i in range(k-self.size,k+self.size+1):\n",
    "            for j in range(l-self.size,l+self.size+1):\n",
    "                if self.zone[i,j] == 2:\n",
    "                    somme += self.confidence[i,j]\n",
    "        res = somme/(self.size*2+1)**2\n",
    "        self.confidence[coord] = res\n",
    "        #return res\n",
    "\n",
    "    def set_gradient_patch(self, coord):\n",
    "        k,l = coord\n",
    "        self.gradient[k-self.size:k+self.size+1,l-self.size:l+self.size+1] = gradient(self.img[k-self.size:k+self.size+1,l-self.size:l+self.size+1])\n",
    "\n",
    "    def set_data_patch(self,coord):\n",
    "        i,j = coord\n",
    "        \n",
    "        gradient = np.gradient(self.img[i-1:i+2,j-1:j+2])\n",
    "        grad_patch = np.array([gradient[0][1,1],gradient[1][1,1]])\n",
    "\n",
    "        pat.data = 1\n",
    "\n",
    "\n",
    "# Exemple d'utilisation\n",
    "patch_instance = Patch(\"images/lena.tif\")\n",
    "\n",
    "print(type(patch_instance))  # Devrait afficher <class '__main__.Patch'>\n",
    "print(patch_instance)  # Affiche les dimensions de l'image\n",
    "plt.imshow(patch_instance)\n",
    "\n"
   ]
  }
 ],
 "metadata": {
  "kernelspec": {
   "display_name": "jean",
   "language": "python",
   "name": "python3"
  },
  "language_info": {
   "codemirror_mode": {
    "name": "ipython",
    "version": 3
   },
   "file_extension": ".py",
   "mimetype": "text/x-python",
   "name": "python",
   "nbconvert_exporter": "python",
   "pygments_lexer": "ipython3",
   "version": "3.12.4"
  }
 },
 "nbformat": 4,
 "nbformat_minor": 2
}
