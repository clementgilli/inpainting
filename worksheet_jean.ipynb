{
 "cells": [
  {
   "cell_type": "code",
   "execution_count": 179,
   "metadata": {},
   "outputs": [],
   "source": [
    "from patchedimage import PatchedImage\n",
    "from utilities import *\n",
    "\n",
    "def below_line(x,y, a,b, c,d):\n",
    "    if a == c:\n",
    "        return x < a\n",
    "    else:\n",
    "        return y - ((d-b)/(c-a)*(x-a)+b) > 0 \n",
    "\n",
    "\n",
    "def compute_normal(zone, coord):\n",
    "    i,j = coord\n",
    "    if zone[i,j] != 1:\n",
    "        raise ValueError('trying to calculate normal vector not in frontier')\n",
    "        \n",
    "    border_neighbors = []\n",
    "    target_neighbors = (-1,-1)\n",
    "    for di in range(-1, 2):\n",
    "        for dj in range(-1, 2):\n",
    "            ni, nj = i + di, j + dj\n",
    "            if di == 0 and dj == 0:\n",
    "                continue  # Skip the center point itself\n",
    "            if zone[ni,nj] == 1:\n",
    "                border_neighbors.append((ni, nj))\n",
    "            elif zone[ni,nj] == 0:\n",
    "                target_neighbors = (ni,nj)\n",
    "\n",
    "    border_neighbors=sorted(border_neighbors)\n",
    "    a,b,c,d = border_neighbors[0][0],border_neighbors[0][1],border_neighbors[-1][0],border_neighbors[-1][1]\n",
    "    x,y = target_neighbors\n",
    "    print(border_neighbors)\n",
    "    tengeante_x,tengeante_y = a-c,b-d\n",
    "    norme = (tengeante_x**2+tengeante_y**2)**0.5\n",
    "\n",
    "    if below_line(x,y, a,b, c,d): #j'ai rajouté le +1e-3 pour éviter la division par 0 (peut etre pas la meilleure solution)\n",
    "        return (-tengeante_y/norme,tengeante_x/norme)\n",
    "    else:\n",
    "        return (tengeante_y/norme,-tengeante_x/norme)"
   ]
  },
  {
   "cell_type": "code",
   "execution_count": 180,
   "metadata": {},
   "outputs": [
    {
     "name": "stdout",
     "output_type": "stream",
     "text": [
      "[(1, 0), (1, 2)]\n",
      "(-1.0, 0.0)\n"
     ]
    },
    {
     "data": {
      "image/png": "[encoded data removed]",
      "text/plain": [
       "<Figure size 640x480 with 1 Axes>"
      ]
     },
     "metadata": {},
     "output_type": "display_data"
    }
   ],
   "source": [
    "zone = np.array([[2,2,2],\n",
    "                 [1,1,1],\n",
    "                 [0,0,0]])\n",
    "\n",
    "normal_vector = compute_normal(zone, (1,1))\n",
    "\n",
    "# Plot the matrix and the vector normal\n",
    "fig, ax = plt.subplots()\n",
    "ax.imshow(zone, cmap='gray', origin='upper')\n",
    "\n",
    "# Coordinates of the center\n",
    "center_x, center_y = 1, 1\n",
    "\n",
    "# Normal vector components\n",
    "u, v = normal_vector\n",
    "print(normal_vector)\n",
    "# Plot the normal vector using quiver\n",
    "ax.quiver(center_x, center_y, v, u, angles='xy', scale_units='xy', scale=1, color='red')\n",
    "\n",
    "# Set the axis limits and labels\n",
    "ax.set_xlim(-0.5, 2.5)\n",
    "ax.set_ylim(2.5, -0.5)\n",
    "ax.set_xticks(range(3))\n",
    "ax.set_yticks(range(3))\n",
    "ax.grid(True)\n",
    "\n",
    "plt.show()"
   ]
  }
 ],
 "metadata": {
  "kernelspec": {
   "display_name": "jean",
   "language": "python",
   "name": "python3"
  },
  "language_info": {
   "codemirror_mode": {
    "name": "ipython",
    "version": 3
   },
   "file_extension": ".py",
   "mimetype": "text/x-python",
   "name": "python",
   "nbconvert_exporter": "python",
   "pygments_lexer": "ipython3",
   "version": "3.12.4"
  }
 },
 "nbformat": 4,
 "nbformat_minor": 2
}
